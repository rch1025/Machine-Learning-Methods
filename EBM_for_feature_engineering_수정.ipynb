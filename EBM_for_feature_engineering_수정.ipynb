{
 "cells": [
  {
   "cell_type": "markdown",
   "metadata": {},
   "source": [
    "### EBM의 변수별 기여도를 바탕으로 한 feature engineering 확인\n",
    "- 데이터의 변화에 따른 정확도를 확인하기 위해 모델 파라미터는 러프하게 진행\n",
    "- 기존 변수들의 모델링을 통한 정확도와 EBM을 통한 feature engineering 후의 정확도를 비교\n",
    "\n",
    "\n",
    "#### 데이터 설명 \n",
    "- [Download Link]\n",
    "    - https://www.kaggle.com/competitions/bike-sharing-demand/data\n",
    "- [목적]\n",
    "    - Forecast use of a city bikeshare system (자전거 공유 수요량 예측)\n",
    "- [특징]\n",
    "    - 2년 동안의 시간당 데이터로 구성됨\n",
    "    - Target 변수를 포함하여 총 12개의 변수로 구성됨\n",
    "    - 대여 기간 전에 사용할 수 있는 정보만 활용하여 테스트 세트에서 다루는 각 시간 동안 대여한 총 자전거 수 예측\n",
    "- [train data]\n",
    "    - 매월 1일부터 19일까지의 데이터\n",
    "- [test data]\n",
    "    - 20일부터 월말까지의 데이터"
   ]
  },
  {
   "cell_type": "code",
   "execution_count": 8,
   "metadata": {},
   "outputs": [],
   "source": [
    "import pandas as pd\n",
    "import numpy as np\n",
    "from sklearn.model_selection import train_test_split\n",
    "from sklearn.metrics import mean_squared_log_error\n",
    "from sklearn.metrics import *\n",
    "import matplotlib.pyplot as plt\n",
    "import matplotlib\n",
    "\n",
    "import warnings\n",
    "warnings.filterwarnings('ignore')\n",
    "plt.style.use('ggplot')"
   ]
  },
  {
   "cell_type": "code",
   "execution_count": 20,
   "metadata": {},
   "outputs": [
    {
     "name": "stdout",
     "output_type": "stream",
     "text": [
      "(10886, 17)\n"
     ]
    },
    {
     "data": {
      "text/html": [
       "<div>\n",
       "<style scoped>\n",
       "    .dataframe tbody tr th:only-of-type {\n",
       "        vertical-align: middle;\n",
       "    }\n",
       "\n",
       "    .dataframe tbody tr th {\n",
       "        vertical-align: top;\n",
       "    }\n",
       "\n",
       "    .dataframe thead th {\n",
       "        text-align: right;\n",
       "    }\n",
       "</style>\n",
       "<table border=\"1\" class=\"dataframe\">\n",
       "  <thead>\n",
       "    <tr style=\"text-align: right;\">\n",
       "      <th></th>\n",
       "      <th>datetime</th>\n",
       "      <th>season</th>\n",
       "      <th>holiday</th>\n",
       "      <th>workingday</th>\n",
       "      <th>weather</th>\n",
       "      <th>temp</th>\n",
       "      <th>atemp</th>\n",
       "      <th>humidity</th>\n",
       "      <th>windspeed</th>\n",
       "      <th>casual</th>\n",
       "      <th>registered</th>\n",
       "      <th>count</th>\n",
       "      <th>quarter</th>\n",
       "      <th>month</th>\n",
       "      <th>day</th>\n",
       "      <th>dayofweek</th>\n",
       "      <th>hour</th>\n",
       "    </tr>\n",
       "  </thead>\n",
       "  <tbody>\n",
       "    <tr>\n",
       "      <th>0</th>\n",
       "      <td>2011-01-01 00:00:00</td>\n",
       "      <td>1</td>\n",
       "      <td>0</td>\n",
       "      <td>0</td>\n",
       "      <td>1</td>\n",
       "      <td>9.84</td>\n",
       "      <td>14.395</td>\n",
       "      <td>81</td>\n",
       "      <td>0.0</td>\n",
       "      <td>3</td>\n",
       "      <td>13</td>\n",
       "      <td>16</td>\n",
       "      <td>1</td>\n",
       "      <td>1</td>\n",
       "      <td>1</td>\n",
       "      <td>5</td>\n",
       "      <td>0</td>\n",
       "    </tr>\n",
       "    <tr>\n",
       "      <th>1</th>\n",
       "      <td>2011-01-01 01:00:00</td>\n",
       "      <td>1</td>\n",
       "      <td>0</td>\n",
       "      <td>0</td>\n",
       "      <td>1</td>\n",
       "      <td>9.02</td>\n",
       "      <td>13.635</td>\n",
       "      <td>80</td>\n",
       "      <td>0.0</td>\n",
       "      <td>8</td>\n",
       "      <td>32</td>\n",
       "      <td>40</td>\n",
       "      <td>1</td>\n",
       "      <td>1</td>\n",
       "      <td>1</td>\n",
       "      <td>5</td>\n",
       "      <td>1</td>\n",
       "    </tr>\n",
       "    <tr>\n",
       "      <th>2</th>\n",
       "      <td>2011-01-01 02:00:00</td>\n",
       "      <td>1</td>\n",
       "      <td>0</td>\n",
       "      <td>0</td>\n",
       "      <td>1</td>\n",
       "      <td>9.02</td>\n",
       "      <td>13.635</td>\n",
       "      <td>80</td>\n",
       "      <td>0.0</td>\n",
       "      <td>5</td>\n",
       "      <td>27</td>\n",
       "      <td>32</td>\n",
       "      <td>1</td>\n",
       "      <td>1</td>\n",
       "      <td>1</td>\n",
       "      <td>5</td>\n",
       "      <td>2</td>\n",
       "    </tr>\n",
       "    <tr>\n",
       "      <th>3</th>\n",
       "      <td>2011-01-01 03:00:00</td>\n",
       "      <td>1</td>\n",
       "      <td>0</td>\n",
       "      <td>0</td>\n",
       "      <td>1</td>\n",
       "      <td>9.84</td>\n",
       "      <td>14.395</td>\n",
       "      <td>75</td>\n",
       "      <td>0.0</td>\n",
       "      <td>3</td>\n",
       "      <td>10</td>\n",
       "      <td>13</td>\n",
       "      <td>1</td>\n",
       "      <td>1</td>\n",
       "      <td>1</td>\n",
       "      <td>5</td>\n",
       "      <td>3</td>\n",
       "    </tr>\n",
       "    <tr>\n",
       "      <th>4</th>\n",
       "      <td>2011-01-01 04:00:00</td>\n",
       "      <td>1</td>\n",
       "      <td>0</td>\n",
       "      <td>0</td>\n",
       "      <td>1</td>\n",
       "      <td>9.84</td>\n",
       "      <td>14.395</td>\n",
       "      <td>75</td>\n",
       "      <td>0.0</td>\n",
       "      <td>0</td>\n",
       "      <td>1</td>\n",
       "      <td>1</td>\n",
       "      <td>1</td>\n",
       "      <td>1</td>\n",
       "      <td>1</td>\n",
       "      <td>5</td>\n",
       "      <td>4</td>\n",
       "    </tr>\n",
       "  </tbody>\n",
       "</table>\n",
       "</div>"
      ],
      "text/plain": [
       "             datetime  season  holiday  workingday  weather  temp   atemp  \\\n",
       "0 2011-01-01 00:00:00       1        0           0        1  9.84  14.395   \n",
       "1 2011-01-01 01:00:00       1        0           0        1  9.02  13.635   \n",
       "2 2011-01-01 02:00:00       1        0           0        1  9.02  13.635   \n",
       "3 2011-01-01 03:00:00       1        0           0        1  9.84  14.395   \n",
       "4 2011-01-01 04:00:00       1        0           0        1  9.84  14.395   \n",
       "\n",
       "   humidity  windspeed  casual  registered  count  quarter  month  day  \\\n",
       "0        81        0.0       3          13     16        1      1    1   \n",
       "1        80        0.0       8          32     40        1      1    1   \n",
       "2        80        0.0       5          27     32        1      1    1   \n",
       "3        75        0.0       3          10     13        1      1    1   \n",
       "4        75        0.0       0           1      1        1      1    1   \n",
       "\n",
       "   dayofweek  hour  \n",
       "0          5     0  \n",
       "1          5     1  \n",
       "2          5     2  \n",
       "3          5     3  \n",
       "4          5     4  "
      ]
     },
     "execution_count": 20,
     "metadata": {},
     "output_type": "execute_result"
    }
   ],
   "source": [
    "# 데이터 불러오기 및 확인\n",
    "df = pd.read_csv('data/bike_train.csv')\n",
    "\n",
    "# datetime 변수 유형 변경\n",
    "df.datetime = pd.to_datetime(df.datetime)\n",
    "df['quarter'] = df.datetime.dt.quarter\n",
    "df['month'] = df.datetime.dt.month\n",
    "df['day'] = df.datetime.dt.day\n",
    "df['dayofweek'] = df.datetime.dt.dayofweek\n",
    "df['hour'] = df.datetime.dt.hour\n",
    "\n",
    "print(df.shape)\n",
    "df.head()"
   ]
  },
  {
   "cell_type": "code",
   "execution_count": 21,
   "metadata": {},
   "outputs": [
    {
     "name": "stdout",
     "output_type": "stream",
     "text": [
      "학습데이터 크기: (8708, 13)\n",
      "평가데이터 크기: (2178, 13)\n"
     ]
    }
   ],
   "source": [
    "X = df.drop(['datetime','registered','casual','count'], axis=1)\n",
    "y = df['count']\n",
    "\n",
    "x_train, x_test, y_train, y_test = train_test_split(X, y, test_size = 0.2, random_state=42)\n",
    "print('학습데이터 크기:', x_train.shape)\n",
    "print('평가데이터 크기:', x_test.shape)"
   ]
  },
  {
   "cell_type": "markdown",
   "metadata": {},
   "source": [
    "----"
   ]
  },
  {
   "cell_type": "markdown",
   "metadata": {},
   "source": [
    "### EBM 적용"
   ]
  },
  {
   "cell_type": "code",
   "execution_count": 66,
   "metadata": {},
   "outputs": [
    {
     "data": {
      "text/html": [
       "<div>\n",
       "<style scoped>\n",
       "    .dataframe tbody tr th:only-of-type {\n",
       "        vertical-align: middle;\n",
       "    }\n",
       "\n",
       "    .dataframe tbody tr th {\n",
       "        vertical-align: top;\n",
       "    }\n",
       "\n",
       "    .dataframe thead th {\n",
       "        text-align: right;\n",
       "    }\n",
       "</style>\n",
       "<table border=\"1\" class=\"dataframe\">\n",
       "  <thead>\n",
       "    <tr style=\"text-align: right;\">\n",
       "      <th></th>\n",
       "      <th>datetime</th>\n",
       "      <th>season</th>\n",
       "      <th>holiday</th>\n",
       "      <th>workingday</th>\n",
       "      <th>weather</th>\n",
       "      <th>temp</th>\n",
       "      <th>atemp</th>\n",
       "      <th>humidity</th>\n",
       "      <th>windspeed</th>\n",
       "      <th>casual</th>\n",
       "      <th>registered</th>\n",
       "      <th>count</th>\n",
       "      <th>quarter</th>\n",
       "      <th>month</th>\n",
       "      <th>day</th>\n",
       "      <th>dayofweek</th>\n",
       "      <th>hour</th>\n",
       "    </tr>\n",
       "  </thead>\n",
       "  <tbody>\n",
       "    <tr>\n",
       "      <th>0</th>\n",
       "      <td>2011-01-01 00:00:00</td>\n",
       "      <td>1</td>\n",
       "      <td>0</td>\n",
       "      <td>0</td>\n",
       "      <td>1</td>\n",
       "      <td>9.84</td>\n",
       "      <td>14.395</td>\n",
       "      <td>81</td>\n",
       "      <td>0.0</td>\n",
       "      <td>3</td>\n",
       "      <td>13</td>\n",
       "      <td>16</td>\n",
       "      <td>1</td>\n",
       "      <td>1</td>\n",
       "      <td>1</td>\n",
       "      <td>5</td>\n",
       "      <td>0</td>\n",
       "    </tr>\n",
       "    <tr>\n",
       "      <th>1</th>\n",
       "      <td>2011-01-01 01:00:00</td>\n",
       "      <td>1</td>\n",
       "      <td>0</td>\n",
       "      <td>0</td>\n",
       "      <td>1</td>\n",
       "      <td>9.02</td>\n",
       "      <td>13.635</td>\n",
       "      <td>80</td>\n",
       "      <td>0.0</td>\n",
       "      <td>8</td>\n",
       "      <td>32</td>\n",
       "      <td>40</td>\n",
       "      <td>1</td>\n",
       "      <td>1</td>\n",
       "      <td>1</td>\n",
       "      <td>5</td>\n",
       "      <td>1</td>\n",
       "    </tr>\n",
       "    <tr>\n",
       "      <th>2</th>\n",
       "      <td>2011-01-01 02:00:00</td>\n",
       "      <td>1</td>\n",
       "      <td>0</td>\n",
       "      <td>0</td>\n",
       "      <td>1</td>\n",
       "      <td>9.02</td>\n",
       "      <td>13.635</td>\n",
       "      <td>80</td>\n",
       "      <td>0.0</td>\n",
       "      <td>5</td>\n",
       "      <td>27</td>\n",
       "      <td>32</td>\n",
       "      <td>1</td>\n",
       "      <td>1</td>\n",
       "      <td>1</td>\n",
       "      <td>5</td>\n",
       "      <td>2</td>\n",
       "    </tr>\n",
       "    <tr>\n",
       "      <th>3</th>\n",
       "      <td>2011-01-01 03:00:00</td>\n",
       "      <td>1</td>\n",
       "      <td>0</td>\n",
       "      <td>0</td>\n",
       "      <td>1</td>\n",
       "      <td>9.84</td>\n",
       "      <td>14.395</td>\n",
       "      <td>75</td>\n",
       "      <td>0.0</td>\n",
       "      <td>3</td>\n",
       "      <td>10</td>\n",
       "      <td>13</td>\n",
       "      <td>1</td>\n",
       "      <td>1</td>\n",
       "      <td>1</td>\n",
       "      <td>5</td>\n",
       "      <td>3</td>\n",
       "    </tr>\n",
       "    <tr>\n",
       "      <th>4</th>\n",
       "      <td>2011-01-01 04:00:00</td>\n",
       "      <td>1</td>\n",
       "      <td>0</td>\n",
       "      <td>0</td>\n",
       "      <td>1</td>\n",
       "      <td>9.84</td>\n",
       "      <td>14.395</td>\n",
       "      <td>75</td>\n",
       "      <td>0.0</td>\n",
       "      <td>0</td>\n",
       "      <td>1</td>\n",
       "      <td>1</td>\n",
       "      <td>1</td>\n",
       "      <td>1</td>\n",
       "      <td>1</td>\n",
       "      <td>5</td>\n",
       "      <td>4</td>\n",
       "    </tr>\n",
       "  </tbody>\n",
       "</table>\n",
       "</div>"
      ],
      "text/plain": [
       "             datetime  season  holiday  workingday  weather  temp   atemp  \\\n",
       "0 2011-01-01 00:00:00       1        0           0        1  9.84  14.395   \n",
       "1 2011-01-01 01:00:00       1        0           0        1  9.02  13.635   \n",
       "2 2011-01-01 02:00:00       1        0           0        1  9.02  13.635   \n",
       "3 2011-01-01 03:00:00       1        0           0        1  9.84  14.395   \n",
       "4 2011-01-01 04:00:00       1        0           0        1  9.84  14.395   \n",
       "\n",
       "   humidity  windspeed  casual  registered  count  quarter  month  day  \\\n",
       "0        81        0.0       3          13     16        1      1    1   \n",
       "1        80        0.0       8          32     40        1      1    1   \n",
       "2        80        0.0       5          27     32        1      1    1   \n",
       "3        75        0.0       3          10     13        1      1    1   \n",
       "4        75        0.0       0           1      1        1      1    1   \n",
       "\n",
       "   dayofweek  hour  \n",
       "0          5     0  \n",
       "1          5     1  \n",
       "2          5     2  \n",
       "3          5     3  \n",
       "4          5     4  "
      ]
     },
     "execution_count": 66,
     "metadata": {},
     "output_type": "execute_result"
    }
   ],
   "source": [
    "df.head(\n",
    ")"
   ]
  },
  {
   "cell_type": "code",
   "execution_count": 67,
   "metadata": {},
   "outputs": [
    {
     "data": {
      "text/plain": [
       "array([  1.77,   1.78,   1.81, ..., 794.99, 805.49, 862.39])"
      ]
     },
     "execution_count": 67,
     "metadata": {},
     "output_type": "execute_result"
    }
   ],
   "source": [
    "from sklearn.ensemble import RandomForestRegressor\n",
    "\n",
    "rf = RandomForestRegressor()\n",
    "rf.fit(x_train, y_train)\n",
    "rf_pred = rf.predict(x_test)\n",
    "np.sort(rf_pred)"
   ]
  },
  {
   "cell_type": "code",
   "execution_count": 61,
   "metadata": {},
   "outputs": [
    {
     "data": {
      "text/plain": [
       "ExplainableBoostingRegressor(feature_names=['season', 'holiday', 'workingday',\n",
       "                                            'weather', 'temp', 'atemp',\n",
       "                                            'humidity', 'windspeed', 'quarter',\n",
       "                                            'month', 'day', 'dayofweek', 'hour',\n",
       "                                            'workingday x hour',\n",
       "                                            'dayofweek x hour', 'temp x hour',\n",
       "                                            'atemp x hour', 'season x hour',\n",
       "                                            'quarter x hour', 'month x hour',\n",
       "                                            'humidity x dayofweek',\n",
       "                                            'workingday x humidity',\n",
       "                                            'humidity x month'],\n",
       "                             feature_types=['continuous', 'categorical',\n",
       "                                            'categorical', 'continuous',\n",
       "                                            'continuous', 'continuous',\n",
       "                                            'continuous', 'continuous',\n",
       "                                            'continuous', 'continuous',\n",
       "                                            'continuous', 'continuous',\n",
       "                                            'continuous', 'interaction',\n",
       "                                            'interaction', 'interaction',\n",
       "                                            'interaction', 'interaction',\n",
       "                                            'interaction', 'interaction',\n",
       "                                            'interaction', 'interaction',\n",
       "                                            'interaction'],\n",
       "                             max_rounds=10000, n_jobs=1)"
      ]
     },
     "execution_count": 61,
     "metadata": {},
     "output_type": "execute_result"
    }
   ],
   "source": [
    "from interpret import show\n",
    "from interpret.glassbox import ExplainableBoostingRegressor\n",
    "from interpret.data import Marginal # 설명 시각화를 렌더링하기 위한 역할\n",
    "from sklearn.metrics import mean_squared_error\n",
    "\n",
    "ebm = ExplainableBoostingRegressor(random_state=42, n_jobs=1, max_rounds=10000)\n",
    "ebm.fit(x_train, y_train)"
   ]
  },
  {
   "cell_type": "code",
   "execution_count": 65,
   "metadata": {},
   "outputs": [
    {
     "data": {
      "text/plain": [
       "array([-1.12075437e+02, -1.11335572e+02, -1.06636152e+02, -9.87814812e+01,\n",
       "       -9.10808003e+01, -8.74314225e+01, -8.47997086e+01, -7.89830557e+01,\n",
       "       -7.55563930e+01, -7.47656243e+01, -7.22097495e+01, -7.19177800e+01,\n",
       "       -7.18954433e+01, -6.84219668e+01, -6.54337186e+01, -6.26502104e+01,\n",
       "       -6.25345947e+01, -5.90614764e+01, -5.80896422e+01, -5.69429598e+01,\n",
       "       -5.68038353e+01, -5.65969038e+01, -5.42269889e+01, -4.90202012e+01,\n",
       "       -4.75806595e+01, -4.68659568e+01, -4.67120956e+01, -4.58181213e+01,\n",
       "       -4.40082090e+01, -4.39908405e+01, -4.39400871e+01, -4.27646237e+01,\n",
       "       -4.25607469e+01, -4.10533881e+01, -3.78840064e+01, -3.60248023e+01,\n",
       "       -3.55718629e+01, -3.24422642e+01, -3.16261092e+01, -3.11542156e+01,\n",
       "       -3.00326261e+01, -2.99839199e+01, -2.95996641e+01, -2.89894186e+01,\n",
       "       -2.86854792e+01, -2.69837165e+01, -2.67360470e+01, -2.65006946e+01,\n",
       "       -2.60978807e+01, -2.47903502e+01, -2.37533386e+01, -2.22181599e+01,\n",
       "       -2.20845999e+01, -2.13186797e+01, -2.05121885e+01, -2.01581319e+01,\n",
       "       -1.94724915e+01, -1.90064862e+01, -1.87740393e+01, -1.86987411e+01,\n",
       "       -1.83710304e+01, -1.83515575e+01, -1.82539681e+01, -1.78304213e+01,\n",
       "       -1.74494193e+01, -1.73440996e+01, -1.72954600e+01, -1.70967827e+01,\n",
       "       -1.69886685e+01, -1.68519614e+01, -1.67301435e+01, -1.66166078e+01,\n",
       "       -1.62658385e+01, -1.61159552e+01, -1.60960318e+01, -1.58540045e+01,\n",
       "       -1.54166505e+01, -1.50097360e+01, -1.43668907e+01, -1.35644846e+01,\n",
       "       -1.35571852e+01, -1.35479371e+01, -1.34207082e+01, -1.32085660e+01,\n",
       "       -1.31659199e+01, -1.29163651e+01, -1.13568562e+01, -1.12233123e+01,\n",
       "       -1.10463348e+01, -1.05304545e+01, -1.04424055e+01, -1.02004664e+01,\n",
       "       -1.01858332e+01, -9.91113038e+00, -9.84730814e+00, -9.69761629e+00,\n",
       "       -9.66537494e+00, -9.11376630e+00, -8.45567256e+00, -8.43545856e+00,\n",
       "       -8.16389057e+00, -8.04122456e+00, -7.96555671e+00, -7.89293205e+00,\n",
       "       -7.67901444e+00, -7.35705002e+00, -7.27718825e+00, -6.58306994e+00,\n",
       "       -6.47842986e+00, -6.15158046e+00, -5.61986357e+00, -5.59267793e+00,\n",
       "       -5.57072207e+00, -5.33985264e+00, -5.28331871e+00, -5.21264268e+00,\n",
       "       -4.99096719e+00, -4.97093281e+00, -4.83622640e+00, -4.64744799e+00,\n",
       "       -4.45920407e+00, -4.43226043e+00, -4.41619931e+00, -4.28273933e+00,\n",
       "       -4.24697517e+00, -4.21863848e+00, -4.01420250e+00, -3.92554095e+00,\n",
       "       -3.78098114e+00, -3.73896509e+00, -3.63539967e+00, -2.71084245e+00,\n",
       "       -2.46204737e+00, -2.20140977e+00, -1.83088220e+00, -1.48635044e+00,\n",
       "       -1.36242030e+00, -1.31696703e+00, -1.26389476e+00, -8.42444116e-01,\n",
       "       -8.37149337e-01, -7.64142719e-01, -6.24159165e-01, -5.63860938e-01,\n",
       "       -4.67624882e-01, -5.56698659e-02,  3.44711891e-02,  1.56280053e-01,\n",
       "        1.80008512e-01,  3.51686899e-01])"
      ]
     },
     "execution_count": 65,
     "metadata": {},
     "output_type": "execute_result"
    }
   ],
   "source": [
    "ebm_pred_trn = ebm.predict(x_train)\n",
    "ebm_pred = ebm.predict(x_test)\n",
    "np.sort(ebm_pred)[:150]"
   ]
  },
  {
   "cell_type": "code",
   "execution_count": 49,
   "metadata": {},
   "outputs": [
    {
     "data": {
      "text/html": [
       "<div>\n",
       "<style scoped>\n",
       "    .dataframe tbody tr th:only-of-type {\n",
       "        vertical-align: middle;\n",
       "    }\n",
       "\n",
       "    .dataframe tbody tr th {\n",
       "        vertical-align: top;\n",
       "    }\n",
       "\n",
       "    .dataframe thead th {\n",
       "        text-align: right;\n",
       "    }\n",
       "</style>\n",
       "<table border=\"1\" class=\"dataframe\">\n",
       "  <thead>\n",
       "    <tr style=\"text-align: right;\">\n",
       "      <th></th>\n",
       "      <th>season</th>\n",
       "      <th>holiday</th>\n",
       "      <th>workingday</th>\n",
       "      <th>weather</th>\n",
       "      <th>temp</th>\n",
       "      <th>atemp</th>\n",
       "      <th>humidity</th>\n",
       "      <th>windspeed</th>\n",
       "      <th>quarter</th>\n",
       "      <th>month</th>\n",
       "      <th>day</th>\n",
       "      <th>dayofweek</th>\n",
       "      <th>hour</th>\n",
       "    </tr>\n",
       "  </thead>\n",
       "  <tbody>\n",
       "  </tbody>\n",
       "</table>\n",
       "</div>"
      ],
      "text/plain": [
       "Empty DataFrame\n",
       "Columns: [season, holiday, workingday, weather, temp, atemp, humidity, windspeed, quarter, month, day, dayofweek, hour]\n",
       "Index: []"
      ]
     },
     "execution_count": 49,
     "metadata": {},
     "output_type": "execute_result"
    }
   ],
   "source": [
    "# x_train.iloc[np.where(ebm_pred_trn<0)[0],:]"
   ]
  },
  {
   "cell_type": "code",
   "execution_count": 50,
   "metadata": {},
   "outputs": [
    {
     "name": "stdout",
     "output_type": "stream",
     "text": [
      "1.06305046098525\n"
     ]
    },
    {
     "data": {
      "text/plain": [
       "1.0766737345974857"
      ]
     },
     "execution_count": 50,
     "metadata": {},
     "output_type": "execute_result"
    }
   ],
   "source": [
    "RMSLE_trn = mean_squared_log_error(y_train, ebm_pred_trn)**0.5\n",
    "RMSLE = mean_squared_log_error(y_test, ebm_pred)**0.5\n",
    "print(RMSLE_trn)\n",
    "RMSLE"
   ]
  },
  {
   "cell_type": "code",
   "execution_count": 52,
   "metadata": {},
   "outputs": [
    {
     "data": {
      "image/png": "[encoded data removed]",
      "text/plain": [
       "<Figure size 1440x432 with 1 Axes>"
      ]
     },
     "metadata": {},
     "output_type": "display_data"
    }
   ],
   "source": [
    "plt.figure(figsize = (20,6))\n",
    "plt.plot(np.array(y_test))\n",
    "plt.plot(ebm_pred)\n",
    "plt.show()"
   ]
  },
  {
   "cell_type": "markdown",
   "metadata": {},
   "source": [
    "### Explanation\n",
    "1. global explain\n",
    "2. local explain"
   ]
  },
  {
   "cell_type": "code",
   "execution_count": 11,
   "metadata": {},
   "outputs": [
    {
     "name": "stderr",
     "output_type": "stream",
     "text": [
      "c:\\Users\\RohSeungChan\\Anaconda3\\envs\\torch-gpu\\lib\\site-packages\\interpret\\visual\\udash.py:5: UserWarning: \n",
      "The dash_html_components package is deprecated. Please replace\n",
      "`import dash_html_components as html` with `from dash import html`\n",
      "  import dash_html_components as html\n",
      "c:\\Users\\RohSeungChan\\Anaconda3\\envs\\torch-gpu\\lib\\site-packages\\interpret\\visual\\udash.py:6: UserWarning: \n",
      "The dash_core_components package is deprecated. Please replace\n",
      "`import dash_core_components as dcc` with `from dash import dcc`\n",
      "  import dash_core_components as dcc\n",
      "c:\\Users\\RohSeungChan\\Anaconda3\\envs\\torch-gpu\\lib\\site-packages\\interpret\\visual\\udash.py:7: UserWarning: \n",
      "The dash_table package is deprecated. Please replace\n",
      "`import dash_table` with `from dash import dash_table`\n",
      "\n",
      "Also, if you're using any of the table format helpers (e.g. Group), replace \n",
      "`from dash_table.Format import Group` with \n",
      "`from dash.dash_table.Format import Group`\n",
      "  import dash_table as dt\n"
     ]
    },
    {
     "data": {
      "text/html": [
       "<!-- http://127.0.0.1:7001/1687249644168/ -->\n",
       "<iframe src=\"http://127.0.0.1:7001/1687249644168/\" width=100% height=800 frameBorder=\"0\"></iframe>"
      ]
     },
     "metadata": {},
     "output_type": "display_data"
    }
   ],
   "source": [
    "## Global Explanation\n",
    "    # Partial Dependent Plot(PDP)와 히스토그램\n",
    "ebm_global = ebm.explain_global(name='EBM')\n",
    "show(ebm_global)"
   ]
  },
  {
   "cell_type": "markdown",
   "metadata": {},
   "source": [
    "[해석]\n",
    "- 'registered'와 'casual' 변수가 count의 상승에 가장 큰 영향을 미침 -> 다른 변수들과의 차이가 심함\n",
    "- 'registered'\n",
    "    - (0~42.9)가 대부분\n",
    "    - 값이 커질수록 count 간에 양의 추세가 존재 -> score의 분산 크지 않음\n",
    "    - 범주 구성: (0~150), (150~350), (350~550), (550, 750), (750~)\n",
    "\n",
    "- 'casual'\n",
    "    - 변수의 경우 (0~17.2)까지가 대부분이며 69 이후부터는 거의 없음\n",
    "    - 값이 커질수록 count는 완만한 양의 추세를 가짐-> score의 분산 크지 않음\n",
    "    - 범주 구성: (0~100, 100~200, 200~300, 300~)"
   ]
  },
  {
   "cell_type": "code",
   "execution_count": 53,
   "metadata": {},
   "outputs": [
    {
     "data": {
      "text/html": [
       "<div>\n",
       "<style scoped>\n",
       "    .dataframe tbody tr th:only-of-type {\n",
       "        vertical-align: middle;\n",
       "    }\n",
       "\n",
       "    .dataframe tbody tr th {\n",
       "        vertical-align: top;\n",
       "    }\n",
       "\n",
       "    .dataframe thead th {\n",
       "        text-align: right;\n",
       "    }\n",
       "</style>\n",
       "<table border=\"1\" class=\"dataframe\">\n",
       "  <thead>\n",
       "    <tr style=\"text-align: right;\">\n",
       "      <th></th>\n",
       "      <th>pred</th>\n",
       "      <th>real</th>\n",
       "      <th>resid</th>\n",
       "    </tr>\n",
       "  </thead>\n",
       "  <tbody>\n",
       "    <tr>\n",
       "      <th>0</th>\n",
       "      <td>129.337413</td>\n",
       "      <td>127</td>\n",
       "      <td>2.34</td>\n",
       "    </tr>\n",
       "    <tr>\n",
       "      <th>1</th>\n",
       "      <td>12.100139</td>\n",
       "      <td>13</td>\n",
       "      <td>0.90</td>\n",
       "    </tr>\n",
       "    <tr>\n",
       "      <th>2</th>\n",
       "      <td>160.251737</td>\n",
       "      <td>163</td>\n",
       "      <td>2.75</td>\n",
       "    </tr>\n",
       "    <tr>\n",
       "      <th>3</th>\n",
       "      <td>233.200095</td>\n",
       "      <td>233</td>\n",
       "      <td>0.20</td>\n",
       "    </tr>\n",
       "    <tr>\n",
       "      <th>4</th>\n",
       "      <td>222.627660</td>\n",
       "      <td>222</td>\n",
       "      <td>0.63</td>\n",
       "    </tr>\n",
       "  </tbody>\n",
       "</table>\n",
       "</div>"
      ],
      "text/plain": [
       "         pred  real  resid\n",
       "0  129.337413   127   2.34\n",
       "1   12.100139    13   0.90\n",
       "2  160.251737   163   2.75\n",
       "3  233.200095   233   0.20\n",
       "4  222.627660   222   0.63"
      ]
     },
     "execution_count": 53,
     "metadata": {},
     "output_type": "execute_result"
    }
   ],
   "source": [
    "## Local expain\n",
    "    # 자차가 제일 작은 관측치 20개와 큰 관측치 20개에 대해서 비교\n",
    "result = pd.DataFrame({'pred':ebm_pred, 'real':np.array(y_test), 'resid':np.abs(np.array(y_test)-ebm_pred).round(2)})\n",
    "top_index = result.sort_values('resid').head(20).index.to_list()\n",
    "low_index = result.sort_values('resid').tail(20).index.to_list()\n",
    "result.head()"
   ]
  },
  {
   "cell_type": "code",
   "execution_count": 54,
   "metadata": {},
   "outputs": [
    {
     "data": {
      "text/html": [
       "<!-- http://127.0.0.1:7001/1687361232392/ -->\n",
       "<iframe src=\"http://127.0.0.1:7001/1687361232392/\" width=100% height=800 frameBorder=\"0\"></iframe>"
      ]
     },
     "metadata": {},
     "output_type": "display_data"
    }
   ],
   "source": [
    "# 잔차가 가장 작은 10개 관측치에 대한 explain\n",
    "ebm_local_top = ebm.explain_local(x_test.iloc[top_index,:], result.loc[top_index, 'real'], name='EBM')\n",
    "show(ebm_local_top)"
   ]
  },
  {
   "cell_type": "markdown",
   "metadata": {},
   "source": [
    "- real 값이 매우 큰 관측치들은 존재하지 않음 => 실제값이 작을 때 예측을 더 잘한다.\n",
    "- 'registered'의 기여도가 제일 높긴 하지만, 'casual'도 적지 않음\n",
    "- 예측을 잘 하는 관측치(real 값이 작은 경우)들은 'registered'와 'actual'은 negative contribution을 갖는 경우가 많음 -> intercept의 영향력을 줄이기 위함"
   ]
  },
  {
   "cell_type": "code",
   "execution_count": 55,
   "metadata": {},
   "outputs": [
    {
     "data": {
      "text/html": [
       "<!-- http://127.0.0.1:7001/1687361725896/ -->\n",
       "<iframe src=\"http://127.0.0.1:7001/1687361725896/\" width=100% height=800 frameBorder=\"0\"></iframe>"
      ]
     },
     "metadata": {},
     "output_type": "display_data"
    }
   ],
   "source": [
    "# 잔차가 가장 큰 10개 관측치에 대한 explain\n",
    "ebm_local_low = ebm.explain_local(x_test.iloc[low_index,:], result.loc[low_index, 'real'], name='EBM')\n",
    "show(ebm_local_low)"
   ]
  },
  {
   "cell_type": "markdown",
   "metadata": {},
   "source": [
    "- real 값이 매우 큰 경우가 다반사\n",
    "- 대부분의 관측치가 registered에만 상당히 의존하고 있음\n",
    "- real 값이 큰 관측치 예측에서는 영향력이 큰 두 변수 모두 positive contribution을 가지고 있음"
   ]
  },
  {
   "cell_type": "markdown",
   "metadata": {},
   "source": [
    "---"
   ]
  },
  {
   "cell_type": "markdown",
   "metadata": {},
   "source": [
    "1. Feature contribution을 기반으로, 'registered', 'casual' 두 연속형 변수의 파생(범주형) 변수를 생성하고자 한다.\n",
    "2. 간단한 모델링을 통해 확인한 결과, 예측을 잘 못하는 경우는 real 값이 큰 경우이다.\n",
    "3. `두 개 변수에서 값이 큰 관측치들의 범주를 보다 디테일하게 나눈다면 성능이 오르지 않을까?` => 실험 내용"
   ]
  },
  {
   "cell_type": "code",
   "execution_count": 61,
   "metadata": {},
   "outputs": [
    {
     "data": {
      "text/plain": [
       "<matplotlib.axes._subplots.AxesSubplot at 0x188df043888>"
      ]
     },
     "execution_count": 61,
     "metadata": {},
     "output_type": "execute_result"
    },
    {
     "data": {
      "image/png": "[encoded data removed]",
      "text/plain": [
       "<Figure size 1440x288 with 1 Axes>"
      ]
     },
     "metadata": {},
     "output_type": "display_data"
    }
   ],
   "source": [
    "# registered 변수 나누기\n",
    "df['registered'].hist(figsize = (20,4), bins=50)"
   ]
  },
  {
   "cell_type": "code",
   "execution_count": 84,
   "metadata": {},
   "outputs": [
    {
     "data": {
      "text/plain": [
       "<matplotlib.axes._subplots.AxesSubplot at 0x188dc6ebc08>"
      ]
     },
     "execution_count": 84,
     "metadata": {},
     "output_type": "execute_result"
    },
    {
     "data": {
      "image/png": "[encoded data removed]",
      "text/plain": [
       "<Figure size 1440x288 with 1 Axes>"
      ]
     },
     "metadata": {},
     "output_type": "display_data"
    }
   ],
   "source": [
    "# casual 변수 나누기\n",
    "df['casual'].hist(figsize = (20,4), bins=50)"
   ]
  },
  {
   "cell_type": "code",
   "execution_count": 82,
   "metadata": {},
   "outputs": [
    {
     "name": "stdout",
     "output_type": "stream",
     "text": [
      "0.9: 354.0\n",
      "0.92: 384.2000000000007\n",
      "0.9400000000000001: 434.0\n",
      "0.9600000000000001: 494.6000000000022\n",
      "0.9800000000000001: 622.3000000000011\n"
     ]
    }
   ],
   "source": [
    "for qq in np.arange(0.9,1, 0.02):\n",
    "    print(f'{qq}:', df['registered'].quantile(qq))"
   ]
  },
  {
   "cell_type": "code",
   "execution_count": 106,
   "metadata": {},
   "outputs": [
    {
     "name": "stdout",
     "output_type": "stream",
     "text": [
      "0.9: 94.0\n",
      "0.9500000000000001: 141.0\n"
     ]
    }
   ],
   "source": [
    "for qq in np.arange(0.9,1, 0.05):\n",
    "    print(f'{qq}:', df['casual'].quantile(qq))"
   ]
  },
  {
   "cell_type": "code",
   "execution_count": 156,
   "metadata": {},
   "outputs": [],
   "source": [
    "df['registered_bin'] = pd.qcut(df['registered'], q=[0, 0.9, 0.93, 0.96, 0.98, 0.99, 0.995, 1], labels=[str(i) for i in range(7)])\n",
    "df['casual_bin'] = pd.qcut(df['casual'], q=[0, 0.9, 0.93, 0.96, 0.98, 0.99, 0.995, 1], labels=[str(i) for i in range(7)])"
   ]
  },
  {
   "cell_type": "code",
   "execution_count": 157,
   "metadata": {},
   "outputs": [
    {
     "data": {
      "text/plain": [
       "Index(['datetime', 'season', 'holiday', 'workingday', 'weather', 'temp',\n",
       "       'atemp', 'humidity', 'windspeed', 'casual', 'registered', 'count',\n",
       "       'registered_bin', 'casual_bin'],\n",
       "      dtype='object')"
      ]
     },
     "execution_count": 157,
     "metadata": {},
     "output_type": "execute_result"
    }
   ],
   "source": [
    "df.columns"
   ]
  },
  {
   "cell_type": "code",
   "execution_count": 158,
   "metadata": {},
   "outputs": [
    {
     "name": "stdout",
     "output_type": "stream",
     "text": [
      "<class 'pandas.core.frame.DataFrame'>\n",
      "RangeIndex: 10886 entries, 0 to 10885\n",
      "Data columns (total 14 columns):\n",
      " #   Column          Non-Null Count  Dtype         \n",
      "---  ------          --------------  -----         \n",
      " 0   datetime        10886 non-null  datetime64[ns]\n",
      " 1   season          10886 non-null  int64         \n",
      " 2   holiday         10886 non-null  int64         \n",
      " 3   workingday      10886 non-null  int64         \n",
      " 4   weather         10886 non-null  int64         \n",
      " 5   temp            10886 non-null  float64       \n",
      " 6   atemp           10886 non-null  float64       \n",
      " 7   humidity        10886 non-null  int64         \n",
      " 8   windspeed       10886 non-null  float64       \n",
      " 9   casual          10886 non-null  int64         \n",
      " 10  registered      10886 non-null  int64         \n",
      " 11  count           10886 non-null  int64         \n",
      " 12  registered_bin  10886 non-null  category      \n",
      " 13  casual_bin      10886 non-null  category      \n",
      "dtypes: category(2), datetime64[ns](1), float64(3), int64(8)\n",
      "memory usage: 1.0 MB\n"
     ]
    }
   ],
   "source": [
    "df.info()"
   ]
  },
  {
   "cell_type": "code",
   "execution_count": 159,
   "metadata": {},
   "outputs": [
    {
     "data": {
      "text/plain": [
       "0    9801\n",
       "1     327\n",
       "2     322\n",
       "3     218\n",
       "4     112\n",
       "6      54\n",
       "5      52\n",
       "Name: registered_bin, dtype: int64"
      ]
     },
     "execution_count": 159,
     "metadata": {},
     "output_type": "execute_result"
    }
   ],
   "source": [
    "df.registered_bin.value_counts()"
   ]
  },
  {
   "cell_type": "code",
   "execution_count": 160,
   "metadata": {},
   "outputs": [
    {
     "name": "stdout",
     "output_type": "stream",
     "text": [
      "학습데이터 크기: (8708, 12)\n",
      "평가데이터 크기: (2178, 12)\n"
     ]
    }
   ],
   "source": [
    "X = df.drop(['datetime','count'], axis=1)\n",
    "y = df['count']\n",
    "\n",
    "x_train, x_test, y_train, y_test = train_test_split(X, y, test_size = 0.2, random_state=42)\n",
    "print('학습데이터 크기:', x_train.shape)\n",
    "print('평가데이터 크기:', x_test.shape)"
   ]
  },
  {
   "cell_type": "code",
   "execution_count": 161,
   "metadata": {},
   "outputs": [
    {
     "data": {
      "text/plain": [
       "ExplainableBoostingRegressor(feature_names=['season', 'holiday', 'workingday',\n",
       "                                            'weather', 'temp', 'atemp',\n",
       "                                            'humidity', 'windspeed', 'casual',\n",
       "                                            'registered', 'registered_bin',\n",
       "                                            'casual_bin',\n",
       "                                            'temp x registered_bin',\n",
       "                                            'atemp x registered_bin',\n",
       "                                            'humidity x registered_bin',\n",
       "                                            'season x registered_bin',\n",
       "                                            'casual x registered_bin',\n",
       "                                            'windspeed x registered',\n",
       "                                            'windspeed x registered_bin',\n",
       "                                            'atem...\n",
       "                                            'temp x registered',\n",
       "                                            'casual x registered'],\n",
       "                             feature_types=['continuous', 'categorical',\n",
       "                                            'categorical', 'continuous',\n",
       "                                            'continuous', 'continuous',\n",
       "                                            'continuous', 'continuous',\n",
       "                                            'continuous', 'continuous',\n",
       "                                            'categorical', 'categorical',\n",
       "                                            'interaction', 'interaction',\n",
       "                                            'interaction', 'interaction',\n",
       "                                            'interaction', 'interaction',\n",
       "                                            'interaction', 'interaction',\n",
       "                                            'interaction', 'interaction'],\n",
       "                             n_jobs=1)"
      ]
     },
     "execution_count": 161,
     "metadata": {},
     "output_type": "execute_result"
    }
   ],
   "source": [
    "ebm_ex = ExplainableBoostingRegressor(random_state=42, n_jobs=1)\n",
    "ebm_ex.fit(x_train, y_train)"
   ]
  },
  {
   "cell_type": "code",
   "execution_count": 163,
   "metadata": {},
   "outputs": [
    {
     "data": {
      "text/plain": [
       "array([128.54012536,  12.00038075, 159.36979498, ..., 511.5400419 ,\n",
       "         3.47217634, 240.70772744])"
      ]
     },
     "execution_count": 163,
     "metadata": {},
     "output_type": "execute_result"
    }
   ],
   "source": [
    "ebm_pred_ex_trn = ebm_ex.predict(x_train)\n",
    "ebm_pred_ex = ebm_ex.predict(x_test)\n",
    "ebm_pred_ex"
   ]
  },
  {
   "cell_type": "code",
   "execution_count": 164,
   "metadata": {},
   "outputs": [
    {
     "name": "stdout",
     "output_type": "stream",
     "text": [
      "3.1871829024248175\n"
     ]
    },
    {
     "data": {
      "text/plain": [
       "4.4258181031367645"
      ]
     },
     "execution_count": 164,
     "metadata": {},
     "output_type": "execute_result"
    }
   ],
   "source": [
    "RMSE_ex_trn = mean_squared_error(y_train, ebm_pred_ex_trn)**0.5\n",
    "RMSE_ex = mean_squared_error(y_test, ebm_pred_ex)**0.5\n",
    "print(RMSE_ex_trn)\n",
    "RMSE_ex"
   ]
  },
  {
   "cell_type": "code",
   "execution_count": 126,
   "metadata": {},
   "outputs": [
    {
     "data": {
      "text/html": [
       "<div>\n",
       "<style scoped>\n",
       "    .dataframe tbody tr th:only-of-type {\n",
       "        vertical-align: middle;\n",
       "    }\n",
       "\n",
       "    .dataframe tbody tr th {\n",
       "        vertical-align: top;\n",
       "    }\n",
       "\n",
       "    .dataframe thead th {\n",
       "        text-align: right;\n",
       "    }\n",
       "</style>\n",
       "<table border=\"1\" class=\"dataframe\">\n",
       "  <thead>\n",
       "    <tr style=\"text-align: right;\">\n",
       "      <th></th>\n",
       "      <th>pred_ex</th>\n",
       "      <th>pred</th>\n",
       "      <th>real</th>\n",
       "      <th>resid</th>\n",
       "      <th>resid_ex</th>\n",
       "    </tr>\n",
       "  </thead>\n",
       "  <tbody>\n",
       "    <tr>\n",
       "      <th>0</th>\n",
       "      <td>128.483135</td>\n",
       "      <td>129.337413</td>\n",
       "      <td>127</td>\n",
       "      <td>2.34</td>\n",
       "      <td>1.48</td>\n",
       "    </tr>\n",
       "    <tr>\n",
       "      <th>1</th>\n",
       "      <td>12.019776</td>\n",
       "      <td>12.100139</td>\n",
       "      <td>13</td>\n",
       "      <td>0.90</td>\n",
       "      <td>0.98</td>\n",
       "    </tr>\n",
       "    <tr>\n",
       "      <th>2</th>\n",
       "      <td>159.380942</td>\n",
       "      <td>160.251737</td>\n",
       "      <td>163</td>\n",
       "      <td>2.75</td>\n",
       "      <td>3.62</td>\n",
       "    </tr>\n",
       "    <tr>\n",
       "      <th>3</th>\n",
       "      <td>233.458278</td>\n",
       "      <td>233.200095</td>\n",
       "      <td>233</td>\n",
       "      <td>0.20</td>\n",
       "      <td>0.46</td>\n",
       "    </tr>\n",
       "    <tr>\n",
       "      <th>4</th>\n",
       "      <td>223.193636</td>\n",
       "      <td>222.627660</td>\n",
       "      <td>222</td>\n",
       "      <td>0.63</td>\n",
       "      <td>1.19</td>\n",
       "    </tr>\n",
       "  </tbody>\n",
       "</table>\n",
       "</div>"
      ],
      "text/plain": [
       "      pred_ex        pred  real  resid  resid_ex\n",
       "0  128.483135  129.337413   127   2.34      1.48\n",
       "1   12.019776   12.100139    13   0.90      0.98\n",
       "2  159.380942  160.251737   163   2.75      3.62\n",
       "3  233.458278  233.200095   233   0.20      0.46\n",
       "4  223.193636  222.627660   222   0.63      1.19"
      ]
     },
     "execution_count": 126,
     "metadata": {},
     "output_type": "execute_result"
    }
   ],
   "source": [
    "result_ex = pd.DataFrame({'pred_ex':ebm_pred_ex, 'pred':ebm_pred, 'real':np.array(y_test), \n",
    "                'resid':np.abs(np.array(y_test)-ebm_pred).round(2), 'resid_ex':np.abs(np.array(y_test)-ebm_pred_ex).round(2)})\n",
    "\n",
    "top_index_ex = result_ex.sort_values('resid').head(20).index.to_list()\n",
    "low_index_ex = result_ex.sort_values('resid').tail(20).index.to_list()\n",
    "result_ex.head()"
   ]
  },
  {
   "cell_type": "code",
   "execution_count": 116,
   "metadata": {},
   "outputs": [
    {
     "data": {
      "text/html": [
       "<div>\n",
       "<style scoped>\n",
       "    .dataframe tbody tr th:only-of-type {\n",
       "        vertical-align: middle;\n",
       "    }\n",
       "\n",
       "    .dataframe tbody tr th {\n",
       "        vertical-align: top;\n",
       "    }\n",
       "\n",
       "    .dataframe thead th {\n",
       "        text-align: right;\n",
       "    }\n",
       "</style>\n",
       "<table border=\"1\" class=\"dataframe\">\n",
       "  <thead>\n",
       "    <tr style=\"text-align: right;\">\n",
       "      <th></th>\n",
       "      <th>pred_ex</th>\n",
       "      <th>pred</th>\n",
       "      <th>real</th>\n",
       "      <th>resid</th>\n",
       "      <th>resid_ex</th>\n",
       "    </tr>\n",
       "  </thead>\n",
       "  <tbody>\n",
       "    <tr>\n",
       "      <th>1094</th>\n",
       "      <td>882.648280</td>\n",
       "      <td>879.916453</td>\n",
       "      <td>977</td>\n",
       "      <td>97.08</td>\n",
       "      <td>94.35</td>\n",
       "    </tr>\n",
       "    <tr>\n",
       "      <th>361</th>\n",
       "      <td>879.544646</td>\n",
       "      <td>880.659080</td>\n",
       "      <td>948</td>\n",
       "      <td>67.34</td>\n",
       "      <td>68.46</td>\n",
       "    </tr>\n",
       "    <tr>\n",
       "      <th>1654</th>\n",
       "      <td>921.280242</td>\n",
       "      <td>913.554805</td>\n",
       "      <td>888</td>\n",
       "      <td>25.55</td>\n",
       "      <td>33.28</td>\n",
       "    </tr>\n",
       "    <tr>\n",
       "      <th>325</th>\n",
       "      <td>697.008227</td>\n",
       "      <td>733.489759</td>\n",
       "      <td>730</td>\n",
       "      <td>3.49</td>\n",
       "      <td>32.99</td>\n",
       "    </tr>\n",
       "    <tr>\n",
       "      <th>798</th>\n",
       "      <td>909.093104</td>\n",
       "      <td>901.089888</td>\n",
       "      <td>877</td>\n",
       "      <td>24.09</td>\n",
       "      <td>32.09</td>\n",
       "    </tr>\n",
       "    <tr>\n",
       "      <th>...</th>\n",
       "      <td>...</td>\n",
       "      <td>...</td>\n",
       "      <td>...</td>\n",
       "      <td>...</td>\n",
       "      <td>...</td>\n",
       "    </tr>\n",
       "    <tr>\n",
       "      <th>1603</th>\n",
       "      <td>14.004710</td>\n",
       "      <td>13.452633</td>\n",
       "      <td>14</td>\n",
       "      <td>0.55</td>\n",
       "      <td>0.00</td>\n",
       "    </tr>\n",
       "    <tr>\n",
       "      <th>1439</th>\n",
       "      <td>82.001327</td>\n",
       "      <td>82.262776</td>\n",
       "      <td>82</td>\n",
       "      <td>0.26</td>\n",
       "      <td>0.00</td>\n",
       "    </tr>\n",
       "    <tr>\n",
       "      <th>170</th>\n",
       "      <td>167.999072</td>\n",
       "      <td>168.153071</td>\n",
       "      <td>168</td>\n",
       "      <td>0.15</td>\n",
       "      <td>0.00</td>\n",
       "    </tr>\n",
       "    <tr>\n",
       "      <th>380</th>\n",
       "      <td>6.004535</td>\n",
       "      <td>6.577580</td>\n",
       "      <td>6</td>\n",
       "      <td>0.58</td>\n",
       "      <td>0.00</td>\n",
       "    </tr>\n",
       "    <tr>\n",
       "      <th>52</th>\n",
       "      <td>513.002182</td>\n",
       "      <td>512.661858</td>\n",
       "      <td>513</td>\n",
       "      <td>0.34</td>\n",
       "      <td>0.00</td>\n",
       "    </tr>\n",
       "  </tbody>\n",
       "</table>\n",
       "<p>2178 rows × 5 columns</p>\n",
       "</div>"
      ],
      "text/plain": [
       "         pred_ex        pred  real  resid  resid_ex\n",
       "1094  882.648280  879.916453   977  97.08     94.35\n",
       "361   879.544646  880.659080   948  67.34     68.46\n",
       "1654  921.280242  913.554805   888  25.55     33.28\n",
       "325   697.008227  733.489759   730   3.49     32.99\n",
       "798   909.093104  901.089888   877  24.09     32.09\n",
       "...          ...         ...   ...    ...       ...\n",
       "1603   14.004710   13.452633    14   0.55      0.00\n",
       "1439   82.001327   82.262776    82   0.26      0.00\n",
       "170   167.999072  168.153071   168   0.15      0.00\n",
       "380     6.004535    6.577580     6   0.58      0.00\n",
       "52    513.002182  512.661858   513   0.34      0.00\n",
       "\n",
       "[2178 rows x 5 columns]"
      ]
     },
     "execution_count": 116,
     "metadata": {},
     "output_type": "execute_result"
    }
   ],
   "source": [
    "result_ex.sort_values('resid_ex', ascending=False)"
   ]
  },
  {
   "cell_type": "code",
   "execution_count": 139,
   "metadata": {},
   "outputs": [
    {
     "data": {
      "text/html": [
       "<!-- http://127.0.0.1:7001/1687324156296/ -->\n",
       "<iframe src=\"http://127.0.0.1:7001/1687324156296/\" width=100% height=800 frameBorder=\"0\"></iframe>"
      ]
     },
     "metadata": {},
     "output_type": "display_data"
    }
   ],
   "source": [
    "## Global Explanation\n",
    "ebm_global_ex = ebm_ex.explain_global(name='EBM')\n",
    "show(ebm_global_ex)"
   ]
  },
  {
   "cell_type": "code",
   "execution_count": 149,
   "metadata": {},
   "outputs": [
    {
     "data": {
      "text/html": [
       "<!-- http://127.0.0.1:7001/1686979302984/ -->\n",
       "<iframe src=\"http://127.0.0.1:7001/1686979302984/\" width=100% height=800 frameBorder=\"0\"></iframe>"
      ]
     },
     "metadata": {},
     "output_type": "display_data"
    }
   ],
   "source": [
    "# 잔차가 가장 낮은 10개 관측치에 대한 explain\n",
    "ebm_local_top = ebm_ex.explain_local(x_test.iloc[top_index,:], result.loc[top_index, 'real'], name='EBM')\n",
    "show(ebm_local_top)"
   ]
  },
  {
   "cell_type": "markdown",
   "metadata": {},
   "source": [
    "----"
   ]
  },
  {
   "cell_type": "code",
   "execution_count": 143,
   "metadata": {},
   "outputs": [],
   "source": [
    "df['registered_bin'] = pd.qcut(df['registered'], q=4, labels=[i for i in range(4)])\n",
    "df['casual_bin'] = pd.qcut(df['casual'], q=4, labels=[i for i in range(4)])"
   ]
  },
  {
   "cell_type": "code",
   "execution_count": 144,
   "metadata": {},
   "outputs": [
    {
     "name": "stdout",
     "output_type": "stream",
     "text": [
      "학습데이터 크기: (8708, 12)\n",
      "평가데이터 크기: (2178, 12)\n"
     ]
    }
   ],
   "source": [
    "X = df.drop(['datetime','count'], axis=1)\n",
    "y = df['count']\n",
    "\n",
    "x_train, x_test, y_train, y_test = train_test_split(X, y, test_size = 0.2, random_state=42)\n",
    "print('학습데이터 크기:', x_train.shape)\n",
    "print('평가데이터 크기:', x_test.shape)"
   ]
  },
  {
   "cell_type": "code",
   "execution_count": 145,
   "metadata": {},
   "outputs": [
    {
     "data": {
      "text/plain": [
       "ExplainableBoostingRegressor(feature_names=['season', 'holiday', 'workingday',\n",
       "                                            'weather', 'temp', 'atemp',\n",
       "                                            'humidity', 'windspeed', 'casual',\n",
       "                                            'registered', 'registered_bin',\n",
       "                                            'casual_bin', 'temp x registered',\n",
       "                                            'atemp x registered',\n",
       "                                            'casual x registered',\n",
       "                                            'humidity x registered',\n",
       "                                            'season x registered',\n",
       "                                            'humidity x registered_bin',\n",
       "                                            'season x temp', 'temp x humidity',\n",
       "                                            'temp x registered_bin',\n",
       "                                            'windspeed x registered_bin'],\n",
       "                             feature_types=['continuous', 'categorical',\n",
       "                                            'categorical', 'continuous',\n",
       "                                            'continuous', 'continuous',\n",
       "                                            'continuous', 'continuous',\n",
       "                                            'continuous', 'continuous',\n",
       "                                            'continuous', 'continuous',\n",
       "                                            'interaction', 'interaction',\n",
       "                                            'interaction', 'interaction',\n",
       "                                            'interaction', 'interaction',\n",
       "                                            'interaction', 'interaction',\n",
       "                                            'interaction', 'interaction'],\n",
       "                             n_jobs=1)"
      ]
     },
     "execution_count": 145,
     "metadata": {},
     "output_type": "execute_result"
    }
   ],
   "source": [
    "ebm_ex2 = ExplainableBoostingRegressor(random_state=42, n_jobs=1)\n",
    "ebm_ex2.fit(x_train, y_train)"
   ]
  },
  {
   "cell_type": "code",
   "execution_count": 146,
   "metadata": {},
   "outputs": [
    {
     "data": {
      "text/plain": [
       "array([127.93898038,  12.3045033 , 161.91271055, ..., 507.70085981,\n",
       "         5.27804409, 238.97205438])"
      ]
     },
     "execution_count": 146,
     "metadata": {},
     "output_type": "execute_result"
    }
   ],
   "source": [
    "ebm_pred_ex2 = ebm_ex2.predict(x_test)\n",
    "ebm_pred_ex2"
   ]
  },
  {
   "cell_type": "code",
   "execution_count": 147,
   "metadata": {},
   "outputs": [
    {
     "data": {
      "text/plain": [
       "4.4258181031367645"
      ]
     },
     "execution_count": 147,
     "metadata": {},
     "output_type": "execute_result"
    }
   ],
   "source": [
    "RMSE_ex = mean_squared_error(y_test, ebm_pred_ex)**0.5\n",
    "RMSE_ex"
   ]
  },
  {
   "cell_type": "code",
   "execution_count": null,
   "metadata": {},
   "outputs": [],
   "source": []
  }
 ],
 "metadata": {
  "kernelspec": {
   "display_name": "Python 3.7.11 ('torch-gpu')",
   "language": "python",
   "name": "python3"
  },
  "language_info": {
   "codemirror_mode": {
    "name": "ipython",
    "version": 3
   },
   "file_extension": ".py",
   "mimetype": "text/x-python",
   "name": "python",
   "nbconvert_exporter": "python",
   "pygments_lexer": "ipython3",
   "version": "3.7.11"
  },
  "orig_nbformat": 4,
  "vscode": {
   "interpreter": {
    "hash": "69f443095525f2467c034a863fbb849f2621b9ca87839daf8c48ed874bc8a4ae"
   }
  }
 },
 "nbformat": 4,
 "nbformat_minor": 2
}
